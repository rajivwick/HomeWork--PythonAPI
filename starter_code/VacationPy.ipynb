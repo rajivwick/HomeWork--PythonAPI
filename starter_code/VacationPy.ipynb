{
 "cells": [
  {
   "cell_type": "markdown",
   "metadata": {},
   "source": [
    "# VacationPy\n",
    "----\n",
    "\n",
    "#### Note\n",
    "* Keep an eye on your API usage. Use https://developers.google.com/maps/reporting/gmp-reporting as reference for how to monitor your usage and billing.\n",
    "\n",
    "* Instructions have been included for each segment. You do not have to follow them exactly, but they are included to help you think through the steps."
   ]
  },
  {
   "cell_type": "code",
   "execution_count": 233,
   "metadata": {},
   "outputs": [],
   "source": [
    "# Dependencies and Setup\n",
    "import matplotlib.pyplot as plt\n",
    "import pandas as pd\n",
    "import numpy as np\n",
    "import requests\n",
    "import gmaps\n",
    "import os\n",
    "import json\n",
    "# Import API key\n",
    "from api_keys import g_key\n",
    "\n",
    "gmaps.configure(api_key=g_key)"
   ]
  },
  {
   "cell_type": "markdown",
   "metadata": {},
   "source": [
    "### Store Part I results into DataFrame\n",
    "* Load the csv exported in Part I to a DataFrame"
   ]
  },
  {
   "cell_type": "code",
   "execution_count": 234,
   "metadata": {},
   "outputs": [
    {
     "data": {
      "text/html": [
       "<div>\n",
       "<style scoped>\n",
       "    .dataframe tbody tr th:only-of-type {\n",
       "        vertical-align: middle;\n",
       "    }\n",
       "\n",
       "    .dataframe tbody tr th {\n",
       "        vertical-align: top;\n",
       "    }\n",
       "\n",
       "    .dataframe thead th {\n",
       "        text-align: right;\n",
       "    }\n",
       "</style>\n",
       "<table border=\"1\" class=\"dataframe\">\n",
       "  <thead>\n",
       "    <tr style=\"text-align: right;\">\n",
       "      <th></th>\n",
       "      <th>City</th>\n",
       "      <th>Lat</th>\n",
       "      <th>Long</th>\n",
       "      <th>Temp</th>\n",
       "      <th>Max Temp</th>\n",
       "      <th>Min Temp</th>\n",
       "      <th>Humidity</th>\n",
       "      <th>Clouds</th>\n",
       "      <th>Wind</th>\n",
       "      <th>Country</th>\n",
       "      <th>Datetime</th>\n",
       "    </tr>\n",
       "  </thead>\n",
       "  <tbody>\n",
       "    <tr>\n",
       "      <th>0</th>\n",
       "      <td>dikson</td>\n",
       "      <td>73.5069</td>\n",
       "      <td>80.5464</td>\n",
       "      <td>5.92</td>\n",
       "      <td>5.92</td>\n",
       "      <td>5.92</td>\n",
       "      <td>97</td>\n",
       "      <td>100</td>\n",
       "      <td>5.08</td>\n",
       "      <td>RU</td>\n",
       "      <td>1660230932</td>\n",
       "    </tr>\n",
       "    <tr>\n",
       "      <th>1</th>\n",
       "      <td>vaini</td>\n",
       "      <td>-21.2000</td>\n",
       "      <td>-175.2000</td>\n",
       "      <td>21.09</td>\n",
       "      <td>21.09</td>\n",
       "      <td>21.09</td>\n",
       "      <td>100</td>\n",
       "      <td>75</td>\n",
       "      <td>4.12</td>\n",
       "      <td>TO</td>\n",
       "      <td>1660230932</td>\n",
       "    </tr>\n",
       "    <tr>\n",
       "      <th>2</th>\n",
       "      <td>punta arenas</td>\n",
       "      <td>-53.1500</td>\n",
       "      <td>-70.9167</td>\n",
       "      <td>2.98</td>\n",
       "      <td>2.98</td>\n",
       "      <td>2.98</td>\n",
       "      <td>72</td>\n",
       "      <td>20</td>\n",
       "      <td>2.26</td>\n",
       "      <td>CL</td>\n",
       "      <td>1660230689</td>\n",
       "    </tr>\n",
       "    <tr>\n",
       "      <th>3</th>\n",
       "      <td>riga</td>\n",
       "      <td>57.0000</td>\n",
       "      <td>24.0833</td>\n",
       "      <td>26.71</td>\n",
       "      <td>27.24</td>\n",
       "      <td>26.04</td>\n",
       "      <td>35</td>\n",
       "      <td>0</td>\n",
       "      <td>2.06</td>\n",
       "      <td>LV</td>\n",
       "      <td>1660230913</td>\n",
       "    </tr>\n",
       "    <tr>\n",
       "      <th>4</th>\n",
       "      <td>puerto ayora</td>\n",
       "      <td>-0.7393</td>\n",
       "      <td>-90.3518</td>\n",
       "      <td>21.15</td>\n",
       "      <td>21.15</td>\n",
       "      <td>21.15</td>\n",
       "      <td>85</td>\n",
       "      <td>100</td>\n",
       "      <td>4.47</td>\n",
       "      <td>EC</td>\n",
       "      <td>1660230933</td>\n",
       "    </tr>\n",
       "  </tbody>\n",
       "</table>\n",
       "</div>"
      ],
      "text/plain": [
       "           City      Lat      Long   Temp  Max Temp  Min Temp  Humidity  \\\n",
       "0        dikson  73.5069   80.5464   5.92      5.92      5.92        97   \n",
       "1         vaini -21.2000 -175.2000  21.09     21.09     21.09       100   \n",
       "2  punta arenas -53.1500  -70.9167   2.98      2.98      2.98        72   \n",
       "3          riga  57.0000   24.0833  26.71     27.24     26.04        35   \n",
       "4  puerto ayora  -0.7393  -90.3518  21.15     21.15     21.15        85   \n",
       "\n",
       "   Clouds  Wind Country    Datetime  \n",
       "0     100  5.08      RU  1660230932  \n",
       "1      75  4.12      TO  1660230932  \n",
       "2      20  2.26      CL  1660230689  \n",
       "3       0  2.06      LV  1660230913  \n",
       "4     100  4.47      EC  1660230933  "
      ]
     },
     "execution_count": 234,
     "metadata": {},
     "output_type": "execute_result"
    }
   ],
   "source": [
    "data = \"City_Data.csv\"\n",
    "\n",
    "weather_data = pd.read_csv(data)\n",
    "\n",
    "weather_data.head()\n"
   ]
  },
  {
   "cell_type": "code",
   "execution_count": 235,
   "metadata": {},
   "outputs": [
    {
     "name": "stdout",
     "output_type": "stream",
     "text": [
      "         Lat      Long\n",
      "0    73.5069   80.5464\n",
      "1   -21.2000 -175.2000\n",
      "2   -53.1500  -70.9167\n",
      "3    57.0000   24.0833\n",
      "4    -0.7393  -90.3518\n",
      "..       ...       ...\n",
      "554   8.2000  -59.7833\n",
      "555  63.9333   31.6500\n",
      "556  28.2000   78.3833\n",
      "557  63.9242  127.4739\n",
      "558 -19.8000  -63.2167\n",
      "\n",
      "[559 rows x 2 columns]\n"
     ]
    }
   ],
   "source": [
    "locations = weather_data[[\"Lat\", \"Long\"]]\n",
    "print(locations)"
   ]
  },
  {
   "cell_type": "code",
   "execution_count": 236,
   "metadata": {},
   "outputs": [],
   "source": [
    "rating = weather_data['Humidity'].astype(float)\n"
   ]
  },
  {
   "cell_type": "markdown",
   "metadata": {},
   "source": [
    "### Humidity Heatmap\n",
    "* Configure gmaps.\n",
    "* Use the Lat and Lng as locations and Humidity as the weight.\n",
    "* Add Heatmap layer to map."
   ]
  },
  {
   "cell_type": "code",
   "execution_count": 237,
   "metadata": {
    "scrolled": false
   },
   "outputs": [
    {
     "data": {
      "application/vnd.jupyter.widget-view+json": {
       "model_id": "05c2491e51634983959f7dd4a06d6c4a",
       "version_major": 2,
       "version_minor": 0
      },
      "text/plain": [
       "Figure(layout=FigureLayout(height='420px'))"
      ]
     },
     "metadata": {},
     "output_type": "display_data"
    }
   ],
   "source": [
    "fig = gmaps.figure(center = (0,30), zoom_level=2, map_type='HYBRID')\n",
    "\n",
    "# Create heat layer\n",
    "heat_layer = gmaps.heatmap_layer(locations, weights=rating, \n",
    "                                 dissipating=False, max_intensity=100,\n",
    "                                 point_radius=3)\n",
    "\n",
    "\n",
    "# Add layer\n",
    "fig.add_layer(heat_layer)\n",
    "\n",
    "# Display figure\n",
    "fig"
   ]
  },
  {
   "cell_type": "code",
   "execution_count": null,
   "metadata": {},
   "outputs": [],
   "source": []
  },
  {
   "cell_type": "markdown",
   "metadata": {},
   "source": [
    "### Create new DataFrame fitting weather criteria\n",
    "* Narrow down the cities to fit weather conditions.\n",
    "* Drop any rows will null values."
   ]
  },
  {
   "cell_type": "code",
   "execution_count": 256,
   "metadata": {},
   "outputs": [],
   "source": [
    "# Holiday destination filtering variables\n",
    "\n",
    "max_temp = 35\n",
    "min_temp = 25\n",
    "max_wind_speed = 4\n",
    "max_cloudiness = 0\n",
    "\n",
    "holiday_data  = weather_data.loc[(weather_data['Max Temp'] <= max_temp) &\n",
    "                                (weather_data['Min Temp'] >= min_temp) &\n",
    "                                (weather_data['Wind'] <= max_wind_speed) &\n",
    "                                (weather_data['Clouds'] <= max_cloudiness), :]\n",
    "\n",
    "holiday_data = holiday_data.reset_index(drop=True)"
   ]
  },
  {
   "cell_type": "markdown",
   "metadata": {},
   "source": [
    "### Hotel Map\n",
    "* Store into variable named `hotel_df`.\n",
    "* Add a \"Hotel Name\" column to the DataFrame.\n",
    "* Set parameters to search for hotels with 5000 meters.\n",
    "* Hit the Google Places API for each city's coordinates.\n",
    "* Store the first Hotel result into the DataFrame.\n",
    "* Plot markers on top of the heatmap."
   ]
  },
  {
   "cell_type": "code",
   "execution_count": 257,
   "metadata": {},
   "outputs": [],
   "source": [
    "# Creating a new dataframing and assigning it the columns City and Country from the holiday_data dataframe\n",
    "hotel_df = pd.DataFrame().assign(City=holiday_data['City'], Country=holiday_data['Country'])"
   ]
  },
  {
   "cell_type": "code",
   "execution_count": 258,
   "metadata": {},
   "outputs": [
    {
     "name": "stdout",
     "output_type": "stream",
     "text": [
      "<class 'pandas.core.frame.DataFrame'>\n",
      "RangeIndex: 13 entries, 0 to 12\n",
      "Data columns (total 2 columns):\n",
      " #   Column   Non-Null Count  Dtype \n",
      "---  ------   --------------  ----- \n",
      " 0   City     13 non-null     object\n",
      " 1   Country  13 non-null     object\n",
      "dtypes: object(2)\n",
      "memory usage: 336.0+ bytes\n"
     ]
    }
   ],
   "source": [
    "hotel_df.info()"
   ]
  },
  {
   "cell_type": "code",
   "execution_count": 259,
   "metadata": {},
   "outputs": [
    {
     "name": "stdout",
     "output_type": "stream",
     "text": [
      "Retrieving a Hotel in riga.\n",
      "Closest Hotel in riga is Hotel Skanste.\n",
      "------------\n",
      "Retrieving a Hotel in kuryk.\n",
      "Closest Hotel in kuryk is Gostinitsa Kuryk - Otel' Dlya Vsekh Kategoriy Kliyentov ..\n",
      "------------\n",
      "Retrieving a Hotel in vila velha.\n",
      "Closest Hotel in vila velha is Hotel Vitória Palace.\n",
      "------------\n",
      "Retrieving a Hotel in wageningen.\n",
      "Closest Hotel in wageningen is Fletcher Hotel-Restaurant De Wageningsche Berg.\n",
      "------------\n",
      "Retrieving a Hotel in beyneu.\n",
      "Closest Hotel in beyneu is NUR.\n",
      "------------\n",
      "Retrieving a Hotel in ferreira do alentejo.\n",
      "Closest Hotel in ferreira do alentejo is Rural Moments.\n",
      "------------\n",
      "Retrieving a Hotel in dentsville.\n",
      "Closest Hotel in dentsville is Columbia Northeast Hotel.\n",
      "------------\n",
      "Retrieving a Hotel in iberia.\n",
      "Closest Hotel in iberia is back to back rv park.\n",
      "------------\n",
      "Retrieving a Hotel in chiredzi.\n",
      "Closest Hotel in chiredzi is Clevers Hotel Chiredzi.\n",
      "------------\n",
      "Retrieving a Hotel in qobustan.\n",
      "Sorry we couldnt find any Hotels found in qobustan\n",
      "------------\n",
      "Retrieving a Hotel in oktyabrskoye.\n",
      "Closest Hotel in oktyabrskoye is Prolesok Mini-hotel.\n",
      "------------\n",
      "Retrieving a Hotel in sulphur springs.\n",
      "Closest Hotel in sulphur springs is Clarion Pointe Sulphur Springs.\n",
      "------------\n",
      "Retrieving a Hotel in porto velho.\n",
      "Closest Hotel in porto velho is Ecos Hotel Conforto.\n",
      "------------\n"
     ]
    }
   ],
   "source": [
    "base_url = \"https://maps.googleapis.com/maps/api/place/nearbysearch/json\"\n",
    "params = {\n",
    "    \"radius\": 5000,\n",
    "    \"type\": \"lodging\",\n",
    "    \"key\": g_key,\n",
    "}\n",
    "# use iterrows to iterate through pandas dataframe\n",
    "for index, row in holiday_data.iterrows():\n",
    "\n",
    "    # get restaurant type from df\n",
    "    Lat = row['Lat']\n",
    "    Long = row['Long']\n",
    "\n",
    "    # add keyword to params dict\n",
    "    params['location'] = f'{Lat}, {Long}'\n",
    "\n",
    "    # assemble url and make API request\n",
    "    print(f\"Retrieving a Hotel in {row['City']}.\")\n",
    "    response = requests.get(base_url, params=params).json()\n",
    "    \n",
    "    # extract results\n",
    "    results = response['results']\n",
    "    \n",
    "    try:\n",
    "        print(f\"Closest Hotel in {row['City']} is {results[0]['name']}.\")\n",
    "        \n",
    "        hotel_df.loc[index, 'Hotel Name'] = results[0]['name']\n",
    "        hotel_df.loc[index, 'Lat'] = results[0]['geometry']['location']['lat']\n",
    "        hotel_df.loc[index, 'Long'] = results[0]['geometry']['location']['lng']\n",
    "\n",
    "    except (KeyError, IndexError):\n",
    "        print(f\"Sorry we couldnt find any Hotels found in {row['City']}\")\n",
    "  \n",
    "    print(\"------------\")\n"
   ]
  },
  {
   "cell_type": "code",
   "execution_count": 242,
   "metadata": {},
   "outputs": [
    {
     "name": "stdout",
     "output_type": "stream",
     "text": [
      "<class 'pandas.core.frame.DataFrame'>\n",
      "RangeIndex: 28 entries, 0 to 27\n",
      "Data columns (total 5 columns):\n",
      " #   Column      Non-Null Count  Dtype  \n",
      "---  ------      --------------  -----  \n",
      " 0   City        28 non-null     object \n",
      " 1   Country     28 non-null     object \n",
      " 2   Hotel Name  27 non-null     object \n",
      " 3   Lat         27 non-null     float64\n",
      " 4   Long        27 non-null     float64\n",
      "dtypes: float64(2), object(3)\n",
      "memory usage: 1.2+ KB\n"
     ]
    }
   ],
   "source": [
    "hotel_df.info()"
   ]
  },
  {
   "cell_type": "code",
   "execution_count": 243,
   "metadata": {},
   "outputs": [
    {
     "name": "stdout",
     "output_type": "stream",
     "text": [
      "<class 'pandas.core.frame.DataFrame'>\n",
      "Int64Index: 27 entries, 0 to 27\n",
      "Data columns (total 5 columns):\n",
      " #   Column      Non-Null Count  Dtype  \n",
      "---  ------      --------------  -----  \n",
      " 0   City        27 non-null     object \n",
      " 1   Country     27 non-null     object \n",
      " 2   Hotel Name  27 non-null     object \n",
      " 3   Lat         27 non-null     float64\n",
      " 4   Long        27 non-null     float64\n",
      "dtypes: float64(2), object(3)\n",
      "memory usage: 1.3+ KB\n"
     ]
    }
   ],
   "source": [
    "hotel_df = hotel_df.dropna()\n",
    "hotel_df.info()"
   ]
  },
  {
   "cell_type": "code",
   "execution_count": 244,
   "metadata": {},
   "outputs": [
    {
     "data": {
      "text/html": [
       "<div>\n",
       "<style scoped>\n",
       "    .dataframe tbody tr th:only-of-type {\n",
       "        vertical-align: middle;\n",
       "    }\n",
       "\n",
       "    .dataframe tbody tr th {\n",
       "        vertical-align: top;\n",
       "    }\n",
       "\n",
       "    .dataframe thead th {\n",
       "        text-align: right;\n",
       "    }\n",
       "</style>\n",
       "<table border=\"1\" class=\"dataframe\">\n",
       "  <thead>\n",
       "    <tr style=\"text-align: right;\">\n",
       "      <th></th>\n",
       "      <th>City</th>\n",
       "      <th>Country</th>\n",
       "      <th>Hotel Name</th>\n",
       "      <th>Lat</th>\n",
       "      <th>Long</th>\n",
       "    </tr>\n",
       "  </thead>\n",
       "  <tbody>\n",
       "    <tr>\n",
       "      <th>0</th>\n",
       "      <td>riga</td>\n",
       "      <td>LV</td>\n",
       "      <td>Hotel Skanste</td>\n",
       "      <td>56.966889</td>\n",
       "      <td>24.120312</td>\n",
       "    </tr>\n",
       "    <tr>\n",
       "      <th>1</th>\n",
       "      <td>kuryk</td>\n",
       "      <td>KZ</td>\n",
       "      <td>Gostinitsa Kuryk - Otel' Dlya Vsekh Kategoriy ...</td>\n",
       "      <td>43.179050</td>\n",
       "      <td>51.672569</td>\n",
       "    </tr>\n",
       "    <tr>\n",
       "      <th>2</th>\n",
       "      <td>hamilton</td>\n",
       "      <td>US</td>\n",
       "      <td>Six Acres Bed &amp; Breakfast</td>\n",
       "      <td>39.185938</td>\n",
       "      <td>-84.544310</td>\n",
       "    </tr>\n",
       "    <tr>\n",
       "      <th>3</th>\n",
       "      <td>menomonie</td>\n",
       "      <td>US</td>\n",
       "      <td>Best Western Plus Menomonie Inn &amp; Suites</td>\n",
       "      <td>44.902375</td>\n",
       "      <td>-91.929498</td>\n",
       "    </tr>\n",
       "    <tr>\n",
       "      <th>4</th>\n",
       "      <td>abu ghosh</td>\n",
       "      <td>IL</td>\n",
       "      <td>Jerusalem Hills Guest House</td>\n",
       "      <td>31.808263</td>\n",
       "      <td>35.104939</td>\n",
       "    </tr>\n",
       "  </tbody>\n",
       "</table>\n",
       "</div>"
      ],
      "text/plain": [
       "        City Country                                         Hotel Name  \\\n",
       "0       riga      LV                                      Hotel Skanste   \n",
       "1      kuryk      KZ  Gostinitsa Kuryk - Otel' Dlya Vsekh Kategoriy ...   \n",
       "2   hamilton      US                          Six Acres Bed & Breakfast   \n",
       "3  menomonie      US           Best Western Plus Menomonie Inn & Suites   \n",
       "4  abu ghosh      IL                        Jerusalem Hills Guest House   \n",
       "\n",
       "         Lat       Long  \n",
       "0  56.966889  24.120312  \n",
       "1  43.179050  51.672569  \n",
       "2  39.185938 -84.544310  \n",
       "3  44.902375 -91.929498  \n",
       "4  31.808263  35.104939  "
      ]
     },
     "execution_count": 244,
     "metadata": {},
     "output_type": "execute_result"
    }
   ],
   "source": [
    "hotel_df.head()"
   ]
  },
  {
   "cell_type": "code",
   "execution_count": 245,
   "metadata": {},
   "outputs": [],
   "source": [
    "# Using the template add the hotel marks to the heatmap\n",
    "info_box_template = \"\"\"\n",
    "<dl>\n",
    "<dt>Name</dt><dd>{Hotel Name}</dd>\n",
    "<dt>City</dt><dd>{City}</dd>\n",
    "<dt>Country</dt><dd>{Country}</dd>\n",
    "</dl>\n",
    "\"\"\"\n",
    "# Store the DataFrame Row\n",
    "hotel_info = [info_box_template.format(**row) for index, row in hotel_df.iterrows()]\n",
    "hotel_locations = hotel_df[[\"Lat\", \"Long\"]]"
   ]
  },
  {
   "cell_type": "code",
   "execution_count": 246,
   "metadata": {},
   "outputs": [
    {
     "data": {
      "application/vnd.jupyter.widget-view+json": {
       "model_id": "03788061e8564a8fa22064da03c6c0b7",
       "version_major": 2,
       "version_minor": 0
      },
      "text/plain": [
       "Figure(layout=FigureLayout(height='420px'))"
      ]
     },
     "metadata": {},
     "output_type": "display_data"
    }
   ],
   "source": [
    "# Add marker layer ontop of heat map\n",
    "\n",
    "marker_layer = gmaps.marker_layer(hotel_locations, info_box_content=hotel_info)\n",
    "\n",
    "# Display figure\n",
    "fig2 = gmaps.figure(center = (0,30), zoom_level=3, map_type='SATELLITE')\n",
    "fig2.add_layer(marker_layer)\n",
    "fig2.add_layer(heat_layer)\n",
    "fig2\n",
    "\n",
    "# Display figure\n"
   ]
  }
 ],
 "metadata": {
  "kernelspec": {
   "display_name": "Python 3.7.7 ('PythonData')",
   "language": "python",
   "name": "python3"
  },
  "language_info": {
   "codemirror_mode": {
    "name": "ipython",
    "version": 3
   },
   "file_extension": ".py",
   "mimetype": "text/x-python",
   "name": "python",
   "nbconvert_exporter": "python",
   "pygments_lexer": "ipython3",
   "version": "3.7.7"
  },
  "latex_envs": {
   "LaTeX_envs_menu_present": true,
   "autoclose": false,
   "autocomplete": true,
   "bibliofile": "biblio.bib",
   "cite_by": "apalike",
   "current_citInitial": 1,
   "eqLabelWithNumbers": true,
   "eqNumInitial": 1,
   "hotkeys": {
    "equation": "Ctrl-E",
    "itemize": "Ctrl-I"
   },
   "labels_anchors": false,
   "latex_user_defs": false,
   "report_style_numbering": false,
   "user_envs_cfg": false
  },
  "vscode": {
   "interpreter": {
    "hash": "9b74207641f7cfe5e1ead3ae1581bd121868b10c7388807feecf4dcc1c97c85d"
   }
  }
 },
 "nbformat": 4,
 "nbformat_minor": 4
}
